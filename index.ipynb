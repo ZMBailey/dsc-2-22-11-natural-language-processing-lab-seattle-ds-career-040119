{
 "cells": [
  {
   "cell_type": "markdown",
   "metadata": {},
   "source": [
    "# Word Vectorization - Lab\n",
    "\n",
    "## Introduction\n",
    "\n",
    "In this lab, we'll learn how tokenize and vectorize text documents, create an use a Bag of Words, and identify words unique to individual documents using TF-IDF Vectorization. \n",
    "\n",
    "## Objectives\n",
    "\n",
    "You will be able to: \n",
    "\n",
    "* Tokenize a corpus of words and identify the different choices to be made while parsing them\n",
    "* Use a Count Vectorization strategy to create a Bag of Words\n",
    "* Use TF-IDF Vectorization with multiple documents to identify words that are important/unique to certain documents\n",
    "\n",
    "## Let's get started!\n",
    "\n",
    "Run the cell below to import everything necessary for this lab.  "
   ]
  },
  {
   "cell_type": "code",
   "execution_count": 10,
   "metadata": {},
   "outputs": [],
   "source": [
    "import pandas as pd\n",
    "import numpy as np\n",
    "from mpl_toolkits.mplot3d import Axes3D\n",
    "import matplotlib.pyplot as plt\n",
    "%matplotlib inline\n",
    "from sklearn.manifold import TSNE\n",
    "from nltk.tokenize import word_tokenize\n",
    "np.random.seed(0)"
   ]
  },
  {
   "cell_type": "markdown",
   "metadata": {},
   "source": [
    "### Our Corpus\n",
    "\n",
    "In this lab, we'll be working with 20 different documents, each containing song lyrics from either Garth Brooks or Kendrick Lamar albums.  \n",
    "\n",
    "The songs are contained within the `data` subdirectory, contained within the same folder as this lab.  Each song is stored in a single file, with files ranging from `song1.txt` to `song20.txt`.  \n",
    "\n",
    "To make it easy to read in all of the documents, use a list comprehension to create a list containing the name of every single song file in the cell below. "
   ]
  },
  {
   "cell_type": "code",
   "execution_count": 2,
   "metadata": {},
   "outputs": [
    {
     "data": {
      "text/plain": [
       "'song11.txt'"
      ]
     },
     "execution_count": 2,
     "metadata": {},
     "output_type": "execute_result"
    }
   ],
   "source": [
    "filenames = ['song' + str(i) + '.txt' for i in range(1,21)]\n",
    "path = 'data/'\n",
    "filenames[10]"
   ]
  },
  {
   "cell_type": "markdown",
   "metadata": {},
   "source": [
    "Next, let's import a single song to see what our text looks like so that we can make sure we clean and tokenize it correctly. \n",
    "\n",
    "In the cell below, read in and print out the lyrics from `song11.txt`.  Use vanilla python, no pandas needed.  "
   ]
  },
  {
   "cell_type": "code",
   "execution_count": 35,
   "metadata": {},
   "outputs": [],
   "source": [
    "with open(path + filenames[10], 'r') as f:\n",
    "    data=f.readlines()"
   ]
  },
  {
   "cell_type": "markdown",
   "metadata": {},
   "source": [
    "### Tokenizing our Data\n",
    "\n",
    "Before we can create a Bag of Words or vectorize each document, we need to clean it up and split each song into an array of individual words.  Computers are very particular about strings. If we tokenized our data in it's current state, we would run into the following problems:\n",
    "\n",
    "1. Counting things that aren't actually words.  In the example above, `\"[Kendrick]\"` is a note specifying who is speaking, not a lyric contained in the actual song, so it should be removed.  \n",
    "1. Punctuation and capitalization would mess up our word counts.  To the python interpreter, `love`, `Love`, `Love?`, and `Love\\n` are all unique words, and would all be counted separately.  We need to remove punctuation and capitalization, so that all words will be counted correctly. \n",
    "\n",
    "Consider the following sentences from the example above:\n",
    "\n",
    "`\"Love, let's talk about love\\n\", 'Is it anything and everything you hoped for?\\n'`\n",
    "\n",
    "After tokenization, this should look like:\n",
    "\n",
    "`['love', 'let's', 'talk', 'about', 'love', 'is', 'it', 'anything', 'and', 'everything', 'you', 'hoped', 'for']`\n",
    "\n",
    "Tokenization is pretty tedious if we handle it manually, and would probably make use of Regular Expressions, which is outside the scope of this lab.  In order to keep this lab moving, we'll use a library function to clean and tokenize our data so that we can move onto vectorization.  \n",
    "\n",
    "Tokenization is a required task for just about any Natural Language Processing (NLP) task, so great industry-standard tools exist to tokenize things for us, so that we can spend our time on more important tasks without getting bogged down hunting every special symbol or punctuation in a massive dataset. For this lab, we'll make use of the tokenizer in the amazing `nltk` library, which is short for _Natural Language Tool Kit_.\n",
    "\n",
    "**_NOTE:_** NLTK requires extra installation methods to be run the first time certain methods are used.  If `nltk` throws you an error about needing to install additional packages, follow the instructions in the error message to install the dependencies, and then rerun the cell.  \n",
    "\n",
    "Before we tokenize our songs, we'll do only a small manual bit of cleaning.  In the cell below, write a function that allows us to remove lines that have `['artist names']` in it, to ensure that our song files contain only lyrics that are actually in the song. For the lines that remain, make every word lowercase, remove newline characters `\\n`, and any of the following punctuation marks: `\",.'?!\"`\n",
    "\n",
    "Test the function on `test_song` to show that it has successfully removed `'[Kendrick Lamar:]'` and other instances of artist names from the song and returned it.  "
   ]
  },
  {
   "cell_type": "code",
   "execution_count": 8,
   "metadata": {},
   "outputs": [
    {
     "name": "stderr",
     "output_type": "stream",
     "text": [
      "[nltk_data] Downloading package punkt to /home/sagacious-\n",
      "[nltk_data]     lifecycle-1416/nltk_data...\n",
      "[nltk_data]   Unzipping tokenizers/punkt.zip.\n"
     ]
    },
    {
     "data": {
      "text/plain": [
       "True"
      ]
     },
     "execution_count": 8,
     "metadata": {},
     "output_type": "execute_result"
    }
   ],
   "source": [
    "import nltk\n",
    "nltk.download('punkt')"
   ]
  },
  {
   "cell_type": "code",
   "execution_count": 41,
   "metadata": {},
   "outputs": [],
   "source": [
    "from string import punctuation\n",
    "\n",
    "def replace_punctuations_with_spaces(text):\n",
    "    \"\"\"Return text iwth all punctuation turned into spaces\"\"\"\n",
    "    output = ''\n",
    "    for char in text:\n",
    "        if char in punctuation:\n",
    "            output += ''\n",
    "        else:\n",
    "            output += char\n",
    "\n",
    "    return output"
   ]
  },
  {
   "cell_type": "code",
   "execution_count": 42,
   "metadata": {},
   "outputs": [
    {
     "name": "stdout",
     "output_type": "stream",
     "text": [
      "Love lets talk about love\n",
      "Is it anything and everything you hoped for\n",
      "Or do the feeling haunt you\n",
      "I know the feeling haunt you\n",
      "This may be the night that my dreams might let me know\n",
      "All the stars approach you all the stars approach you all the stars approach you\n",
      "This may be the night that my dreams might let me know\n",
      "All the stars are closer all the stars are closer all the stars are closer\n",
      "Tell me what you gon do to me\n",
      "Confrontation aint nothin new to me\n",
      "You can bring a bullet bring a sword bring a morgue\n",
      "But you cant bring the truth to me\n",
      "Fuck you and all your expectations\n",
      "I dont even want your congratulations\n",
      "I recognize your false confidence\n",
      "And calculated promises all in your conversation\n",
      "I hate people that feel entitled\n",
      "Look at me crazy cause I aint invite you\n",
      "Oh you important\n",
      "You the moral to the story You endorsin\n",
      "Motherfucker I dont even like you\n",
      "Corrupt a mans heart with a gift\n",
      "Thats how you find out who you dealin with\n",
      "A small percentage who Im buildin with\n",
      "I want the credit if Im losin or Im winnin\n",
      "On my momma thats the realest shit\n",
      "Love lets talk about love\n",
      "Is it anything and everything you hoped for\n",
      "Or do the feeling haunt you\n",
      "I know the feeling haunt you\n",
      "This may be the night that my dreams might let me know\n",
      "All the stars approach you all the stars approach you all the stars approach you\n",
      "This may be the night that my dreams might let me know\n",
      "All the stars are closer all the stars are closer all the stars are closer\n",
      "Skin covered in ego\n",
      "Get to talkin like ya involved like a rebound\n",
      "Got no end game got no reason\n",
      "Got to stay down its the way that you making me feel\n",
      "Like nobody ever loved me like you do you do\n",
      "You kinda feeling like youre tryna get away from me\n",
      "If you do I wont move\n",
      "I aint just cryin for no reason\n",
      "I aint just prayin for no reason\n",
      "I give thanks for the days for the hours\n",
      "And another way another life breathin\n",
      "I did it all cause it feel good\n",
      "I wouldnt do it at all if it feel bad\n",
      "Better live your life were runnin out of time\n",
      "Love lets talk about love\n",
      "Is it anything and everything you hoped for\n",
      "Or do the feeling haunt you\n",
      "I know the feeling haunt you\n",
      "This may be the night that my dreams might let me know\n",
      "All the stars approach you all the stars approach you all the stars approach you\n",
      "This may be the night that my dreams might let me know\n",
      "All the stars are closer all the stars are closer all the stars are closer\n",
      "\n"
     ]
    }
   ],
   "source": [
    "def clean_song(song):\n",
    "    no_names = [line for line in song if '[' not in line]\n",
    "    return replace_punctuations_with_spaces(''.join(no_names))\n",
    "\n",
    "song_without_brackets = clean_song(data)\n",
    "print(song_without_brackets)"
   ]
  },
  {
   "cell_type": "markdown",
   "metadata": {},
   "source": [
    "Great. Now, write a function that takes in songs that have had their brackets removed, joins all of the lines into a single string, and then uses `tokenize()` on it to get a fully tokenized version of the song.  Test this funtion on `song_without_brackets` to ensure that the function works. "
   ]
  },
  {
   "cell_type": "code",
   "execution_count": 43,
   "metadata": {},
   "outputs": [
    {
     "data": {
      "text/plain": [
       "['Love',\n",
       " 'lets',\n",
       " 'talk',\n",
       " 'about',\n",
       " 'love',\n",
       " 'Is',\n",
       " 'it',\n",
       " 'anything',\n",
       " 'and',\n",
       " 'everything']"
      ]
     },
     "execution_count": 43,
     "metadata": {},
     "output_type": "execute_result"
    }
   ],
   "source": [
    "def tokenize(song):\n",
    "    return word_tokenize(song)\n",
    "\n",
    "tokenized_test_song = tokenize(song_without_brackets)\n",
    "tokenized_test_song[:10]"
   ]
  },
  {
   "cell_type": "markdown",
   "metadata": {},
   "source": [
    "Great! Now that we know the ability to tokenize our songs, we can move onto Vectorization. \n",
    "\n",
    "### Count Vectorization\n",
    "\n",
    "Machine Learning algorithms don't understand strings.  However, they do understand math, which means they understand vectors and matrices.  By **_Vectorizing_** the text, we just convert the entire text into a vector, where each element in the vector represents a different word.  The vector is the length of the entire vocabulary--usually, every word that occurs in the English language, or at least every word that appears in our corpus.  Any given sentence can then be represented as a vector where all the vector is 1 (or some other value) for each time that word appears in the sentence. \n",
    "\n",
    "Consider the following example: \n",
    "\n",
    "<center>\"I scream, you scream, we all scream for ice cream.\"</center>\n",
    "\n",
    "| 'aardvark' | 'apple' | [...] | 'I' | 'you' | 'scream' | 'we' | 'all' | 'for' | 'ice' | 'cream' | [...] | 'xylophone' | 'zebra' |\n",
    "|:----------:|:-------:|:-----:|:---:|:-----:|:--------:|:----:|:-----:|:-----:|:-----:|:-------:|:-----:|:-----------:|:-------:|\n",
    "|      0     |    0    |   0   |  1  |   1   |     3    |   1  |   1   |   1   |   1   |    1    |   0   |      0      |    0    |\n",
    "\n",
    "This is called a **_Sparse Representation_**, since the strong majority of the columns will have a value of 0.  Note that elements corresponding to words that do not occur in the sentence have a value of 0, while words that do appear in the sentence have a value of 1 (or 1 for each time it appears in the sentence).\n",
    "\n",
    "Alternatively, we can represent this sentence as a plain old python dictionary of word frequency counts:\n",
    "\n",
    "```python\n",
    "BoW = {\n",
    "    'I':1,\n",
    "    'you':1,\n",
    "    'scream':3,\n",
    "    'we':1,\n",
    "    'all':1,\n",
    "    'for':1,\n",
    "    'ice':1,\n",
    "    'cream':1\n",
    "}\n",
    "```\n",
    "\n",
    "Both of these are examples of **_Count Vectorization_**. They allow us to represent a sentence as a vector, with each element in the vector corresponding to how many times that word is used.\n",
    "\n",
    "#### Positional Information and Bag of Words\n",
    "\n",
    "Notice that when we vectorize a sentence this way, we lose the order that the words were in.  This is the **_Bag of Words_** approach mentioned earlier.  Note that sentences that contain the same words will create the same vectors, even if they mean different things--e.g. `'cats are scared of dogs'` and `'dogs are scared of cats'` would both produce the exact same vector, since they contain the same words.  \n",
    "\n",
    "In the cell below, create a function that takes in a tokenized, cleaned song and returns a Count Vectorized representation of it as a python dictionary. Add in an optional parameter called `vocab` that defaults to `None`. This way, if we are using a vocabulary that contains words not seen in the song, we can still use this function by passing it in to the `vocab` parameter. \n",
    "\n",
    "**_Hint:_**  Consider using a `set` object to make this easier!"
   ]
  },
  {
   "cell_type": "code",
   "execution_count": 62,
   "metadata": {},
   "outputs": [
    {
     "name": "stdout",
     "output_type": "stream",
     "text": [
      "{'Love': 3, 'lets': 3, 'talk': 3, 'about': 3, 'love': 3, 'Is': 3, 'it': 7, 'anything': 3, 'and': 4, 'everything': 3, 'you': 30, 'hoped': 3, 'for': 7, 'Or': 3, 'do': 8, 'the': 38, 'feeling': 7, 'haunt': 6, 'I': 15, 'know': 9, 'This': 6, 'may': 6, 'be': 6, 'night': 6, 'that': 8, 'my': 7, 'dreams': 6, 'might': 6, 'let': 6, 'me': 14, 'All': 6, 'stars': 18, 'approach': 9, 'all': 16, 'are': 9, 'closer': 9, 'Tell': 1, 'what': 1, 'gon': 1, 'to': 6, 'Confrontation': 1, 'aint': 4, 'nothin': 1, 'new': 1, 'You': 4, 'can': 1, 'bring': 4, 'a': 6, 'bullet': 1, 'sword': 1, 'morgue': 1, 'But': 1, 'cant': 1, 'truth': 1, 'Fuck': 1, 'your': 5, 'expectations': 1, 'dont': 2, 'even': 2, 'want': 2, 'congratulations': 1, 'recognize': 1, 'false': 1, 'confidence': 1, 'And': 2, 'calculated': 1, 'promises': 1, 'in': 2, 'conversation': 1, 'hate': 1, 'people': 1, 'feel': 4, 'entitled': 1, 'Look': 1, 'at': 2, 'crazy': 1, 'cause': 2, 'invite': 1, 'Oh': 1, 'important': 1, 'moral': 1, 'story': 1, 'endorsin': 1, 'Motherfucker': 1, 'like': 5, 'Corrupt': 1, 'mans': 1, 'heart': 1, 'with': 3, 'gift': 1, 'Thats': 1, 'how': 1, 'find': 1, 'out': 2, 'who': 2, 'dealin': 1, 'A': 1, 'small': 1, 'percentage': 1, 'Im': 3, 'buildin': 1, 'credit': 1, 'if': 2, 'losin': 1, 'or': 1, 'winnin': 1, 'On': 1, 'momma': 1, 'thats': 1, 'realest': 1, 'shit': 1, 'Skin': 1, 'covered': 1, 'ego': 1, 'Get': 1, 'talkin': 1, 'ya': 1, 'involved': 1, 'rebound': 1, 'Got': 2, 'no': 4, 'end': 1, 'game': 1, 'got': 1, 'reason': 3, 'stay': 1, 'down': 1, 'its': 1, 'way': 2, 'making': 1, 'Like': 1, 'nobody': 1, 'ever': 1, 'loved': 1, 'kinda': 1, 'youre': 1, 'tryna': 1, 'get': 1, 'away': 1, 'from': 1, 'If': 1, 'wont': 1, 'move': 1, 'just': 2, 'cryin': 1, 'prayin': 1, 'give': 1, 'thanks': 1, 'days': 1, 'hours': 1, 'another': 2, 'life': 2, 'breathin': 1, 'did': 1, 'good': 1, 'wouldnt': 1, 'bad': 1, 'Better': 1, 'live': 1, 'were': 1, 'runnin': 1, 'of': 1, 'time': 1}\n"
     ]
    }
   ],
   "source": [
    "from collections import Counter\n",
    "\n",
    "def count_vectorize(song, vocab=None):\n",
    "    counts = dict(Counter(song))\n",
    "\n",
    "    if vocab is not None:\n",
    "        refined_counts = {}\n",
    "        for word in vocab:\n",
    "            if word in counts.keys():\n",
    "                refined_counts[word] = counts[word]\n",
    "            else:\n",
    "                refined_counts[word] = 0\n",
    "        return refined_counts\n",
    "    return counts\n",
    "\n",
    "test_vectorized = count_vectorize(tokenized_test_song)\n",
    "print(test_vectorized)"
   ]
  },
  {
   "cell_type": "markdown",
   "metadata": {},
   "source": [
    "Great! You've just successfully vectorized your first text document! Now, let's look at a more advanced type of vectorization, TF-IDF!\n",
    "\n",
    "### TF-IDF Vectorization\n",
    "\n",
    "TF-IDF stands for **_Term Frequency, Inverse Document Frequency_**.  This is a more advanced form of vectorization that weights each term in a document by how unique it is to the given document it is contained in, which allows us to summarize the contents of a document using a few key words.  If the word is used often in many other documents, it is not unique, and therefore probably not too useful if we wanted to figure out how this document is unique in relation to other documents.  Conversely, if a word is used many times in a document, but rarely in all the other documents we are considering, then it is likely a good indicator for telling us that this word is important to the document in question.  \n",
    "\n",
    "The formula TF-IDF uses to determine the weights of each term in a document is **_Term Frequency_** multipled by **_Inverse Document Frequency_**, where the formula for Term Frequency is:\n",
    "\n",
    "$$\\large Term\\ Frequency(t) = \\frac{number\\ of\\ times\\ t\\ appears\\ in\\ a\\ document} {total\\ number\\ of\\ terms\\ in\\ the\\ document} $$\n",
    "<br>\n",
    "<br>\n",
    "Complete the following function below to calculate term frequency for every term in a document.  "
   ]
  },
  {
   "cell_type": "code",
   "execution_count": 53,
   "metadata": {},
   "outputs": [
    {
     "name": "stdout",
     "output_type": "stream",
     "text": [
      "['you', 'hoped', 'for', 'Or', 'do', 'the', 'feeling', 'haunt', 'I', 'know']\n"
     ]
    }
   ],
   "source": [
    "def term_frequency(BoW_dict):\n",
    "    freq = {}\n",
    "    for term in BoW_dict.keys():\n",
    "        freq[term] = BoW_dict[term]/len(BoW_dict.keys())\n",
    "    return freq\n",
    "\n",
    "test = term_frequency(test_vectorized)\n",
    "print(list(test)[10:20])"
   ]
  },
  {
   "cell_type": "markdown",
   "metadata": {},
   "source": [
    "The formula for Inverse Document Frequency is:  \n",
    "<br>  \n",
    "<br>\n",
    "$$\\large  IDF(t) =  log_e(\\frac{Total\\ Number\\ of\\ Documents}{Number\\ of\\ Documents\\ with\\ t\\ in\\ it})$$\n",
    "\n",
    "Now that we have this, we can easily calculate _Inverse Document Frequency_.  In the cell below, complete the following function.  this function should take in the list of dictionaries, with each item in the list being a Bag of Words representing the words in a different song. The function should return a dictionary containing the inverse document frequency values for each word.  "
   ]
  },
  {
   "cell_type": "code",
   "execution_count": 59,
   "metadata": {},
   "outputs": [],
   "source": [
    "def inverse_document_frequency(list_of_dicts):\n",
    "    inv_freq = {}\n",
    "    num_docs = len(list_of_dicts)\n",
    "    \n",
    "    for doc in list_of_dicts:\n",
    "        for word in doc:\n",
    "            if word not in inv_freq.keys():\n",
    "                count = 0\n",
    "                for d in list_of_dicts:\n",
    "                    if word in d.keys():\n",
    "                        count += 1\n",
    "                inv_freq[word] = np.log(num_docs/count)\n",
    "    \n",
    "    return inv_freq\n"
   ]
  },
  {
   "cell_type": "markdown",
   "metadata": {},
   "source": [
    "### Computing TF-IDF\n",
    "\n",
    "Now that we can compute both Term Frequency and Inverse Document Frequency, computing an overall TF-IDF value is simple! All we need to do is multiply the two values.  \n",
    "\n",
    "In the cell below, complete the `tf_idf()` function.  This function should take in a list of dictionaries, just as the `inverse_document_frequency()` function did.  This function return a new list of dictionaries, with each dictionary containing the tf-idf vectorized representation of a corresponding song document. \n",
    "\n",
    "**_NOTE:_** Each document should contain the full vocabulary of the entire combined corpus.  "
   ]
  },
  {
   "cell_type": "code",
   "execution_count": 101,
   "metadata": {},
   "outputs": [],
   "source": [
    "def tf_idf(list_of_dicts):\n",
    "    idf = inverse_document_frequency(list_of_dicts)\n",
    "    tf = []\n",
    "    for d in list_of_dicts:\n",
    "        tf.append(term_frequency(d))\n",
    "        \n",
    "    tf_idf = []\n",
    "    \n",
    "    word_list = set()\n",
    "    for d in list_of_dicts:\n",
    "        word_list.update(set(d.keys()))\n",
    "    \n",
    "    for d in tf:\n",
    "        new_dict = {}\n",
    "        for word in word_list:\n",
    "            if word in d.keys():\n",
    "                new_dict[word] = idf[word]*d[word]\n",
    "            else:\n",
    "                new_dict[word] = 0\n",
    "        tf_idf.append(new_dict)\n",
    "    \n",
    "    return tf_idf"
   ]
  },
  {
   "cell_type": "markdown",
   "metadata": {},
   "source": [
    "### Vectorizing All Documents\n",
    "\n",
    "Now that we've created all the necessary helper functions, we can load in all of our documents and run each through the vectorization pipeline we've just created.\n",
    "\n",
    "In the cell below, complete the `main` function.  This function should take in a list of file names (provided for you in the `filenames` list we created at the start), and then:\n",
    "\n",
    "1. Read in each document\n",
    "1. Tokenize each document\n",
    "1. Convert each document to a Bag of Words (dictionary representation)\n",
    "1. Return a list of dictionaries vectorized using tf-idf, where each dictionary is a vectorized representation of a document.  \n",
    "\n",
    "**_HINT:_** Remember that all files are stored in the `data/` directory.  Be sure to append this to the filename when reading in each file, otherwise the path won't be correct!"
   ]
  },
  {
   "cell_type": "code",
   "execution_count": 102,
   "metadata": {},
   "outputs": [
    {
     "name": "stdout",
     "output_type": "stream",
     "text": [
      "[0, 0, 0, 0, 0, 0, 0, 0, 0, 0]\n"
     ]
    }
   ],
   "source": [
    "def main(filenames):\n",
    "    songlist = []\n",
    "    for name in filenames:\n",
    "        with open(path + name, 'r') as f:\n",
    "            song=f.readlines()\n",
    "            t_song = tokenize(clean_song(song))\n",
    "            cv_song = count_vectorize(t_song)\n",
    "            songlist.append(cv_song)\n",
    "    \n",
    "    return tf_idf(songlist)\n",
    "        \n",
    "\n",
    "tf_idf_all_docs = main(filenames)\n",
    "print(list(tf_idf_all_docs[0].values())[:10])"
   ]
  },
  {
   "cell_type": "code",
   "execution_count": null,
   "metadata": {},
   "outputs": [],
   "source": [
    "from sklearn.feature_extration.text import Tfid"
   ]
  },
  {
   "cell_type": "markdown",
   "metadata": {},
   "source": [
    "### Visualizing our Vectorizations\n",
    "\n",
    "Now that we have a tf-idf representation each document, we can move on to the fun part--visualizing everything!\n",
    "\n",
    "Let's investigate how many dimensions our data currently has.  In the cell below, examine our dataset to figure out how many dimensions our dataset has. \n",
    "\n",
    "**_HINT_**: Remember that every word is it's own dimension!"
   ]
  },
  {
   "cell_type": "code",
   "execution_count": 103,
   "metadata": {},
   "outputs": [
    {
     "name": "stdout",
     "output_type": "stream",
     "text": [
      "Number of Dimensions: 20\n"
     ]
    }
   ],
   "source": [
    "num_dims = len(tf_idf_all_docs)\n",
    "print(\"Number of Dimensions: {}\".format(num_dims))"
   ]
  },
  {
   "cell_type": "markdown",
   "metadata": {},
   "source": [
    "That's much too high-dimensional for us to visualize! In order to make it understandable to human eyes, we'll need to reduce dimensionality to 2 or 3 dimensions.  \n",
    "\n",
    "### Reducing Dimensionality\n",
    "\n",
    "To do this, we'll use a technique called **_t-SNE_** (short for _t-Stochastic Neighbors Embedding_).  This is too complex for us to code ourselves, so we'll make use of sklearn's implementation of it.  \n",
    "\n",
    "First, we need to pull the words out of the dictionaries stored in `tf_idf_all_docs` so that only the values remain, and store them in lists instead of dictionaries.  This is because the t-SNE object only works with Array-like objects, not dictionaries.  \n",
    "\n",
    "In the cell below, create a list of lists that contains a list representation of the values of each of the dictionaries stored in `tf_idf_all_docs`.  The same structure should remain--e.g. the first list should contain only the values that were in the 1st dictionary in `tf_idf_all_docs`, and so on. "
   ]
  },
  {
   "cell_type": "code",
   "execution_count": 104,
   "metadata": {},
   "outputs": [
    {
     "data": {
      "text/plain": [
       "[0, 0, 0, 0, 0, 0, 0, 0, 0, 0]"
      ]
     },
     "execution_count": 104,
     "metadata": {},
     "output_type": "execute_result"
    }
   ],
   "source": [
    "tf_idf_vals_list = []\n",
    "\n",
    "for i in tf_idf_all_docs:\n",
    "    tf_idf_vals_list.append(list(i.values()))\n",
    "    \n",
    "tf_idf_vals_list[0][:10]"
   ]
  },
  {
   "cell_type": "markdown",
   "metadata": {},
   "source": [
    "Now that we have only the values, we can use the `TSNE` object from `sklearn` to transform our data appropriately.  In the cell below, create a `TSNE` with `n_components=3` passed in as a parameter.  Then, use the created object's `fit_transform()` method to transform the data stored in `tf_idf_vals_list` into 3-dimensional data.  Then, inspect the newly transformed data to confirm that it has the correct dimensionality. "
   ]
  },
  {
   "cell_type": "code",
   "execution_count": 105,
   "metadata": {},
   "outputs": [
    {
     "data": {
      "text/plain": [
       "array([[  -86.33873  ,    -8.6897955,   328.51965  ],\n",
       "       [  197.62213  ,    94.03272  ,  -259.42242  ],\n",
       "       [  121.49409  ,  -106.226845 ,   192.19597  ],\n",
       "       [   39.626614 ,   198.33272  ,   -55.02749  ],\n",
       "       [ -225.2272   ,  -172.43195  ,   131.76297  ],\n",
       "       [  360.6701   ,    20.96299  ,    85.876495 ],\n",
       "       [  218.12074  ,  -190.8283   ,  -271.24957  ],\n",
       "       [-1113.5314   ,   491.1753   ,   -88.06525  ],\n",
       "       [    5.2558503,  -277.17026  ,     7.5822706],\n",
       "       [ 1144.8661   , -1369.8618   ,   294.90735  ],\n",
       "       [ -280.23     ,   194.33707  ,   116.38455  ],\n",
       "       [  162.95084  ,   -58.767296 ,   -55.247765 ],\n",
       "       [  -67.275734 ,   394.46066  ,    76.5684   ],\n",
       "       [  -80.527084 ,  -216.82494  ,  -222.78464  ],\n",
       "       [ -133.14363  ,    25.456642 ,     8.450277 ],\n",
       "       [   75.42915  ,   175.75772  ,   202.35971  ],\n",
       "       [  -99.59716  ,    26.005926 ,  -243.39156  ],\n",
       "       [   27.537453 ,  -347.77563  ,  -407.02643  ],\n",
       "       [   35.87538  ,   319.30588  ,  -268.54227  ],\n",
       "       [ -125.29652  , -1017.0147   ,   357.67682  ]], dtype=float32)"
      ]
     },
     "execution_count": 105,
     "metadata": {},
     "output_type": "execute_result"
    }
   ],
   "source": [
    "t_sne_object_3d = TSNE(n_components=3)\n",
    "transformed_data_3d = t_sne_object_3d.fit_transform(tf_idf_vals_list)\n",
    "transformed_data_3d"
   ]
  },
  {
   "cell_type": "markdown",
   "metadata": {},
   "source": [
    "We'll also want to check out how the visualization looks in 2d.  Repeat the process above, but this time, create a `TSNE` object with 2 components instead of 3.  Again, use `fit_transform()` to transform the data and store it in the variable below, and then inspect it to confirm the transformed data has only 2 dimensions. "
   ]
  },
  {
   "cell_type": "code",
   "execution_count": 106,
   "metadata": {},
   "outputs": [
    {
     "data": {
      "text/plain": [
       "array([[  -9.898153 ,  -86.33485  ],\n",
       "       [ -58.37263  ,   62.76771  ],\n",
       "       [ -49.130993 , -141.24869  ],\n",
       "       [   5.2613516,  -26.983263 ],\n",
       "       [  56.770596 ,    7.3980536],\n",
       "       [  10.754711 ,   50.547134 ],\n",
       "       [-137.78572  ,   51.33656  ],\n",
       "       [ -36.56938  ,    8.122509 ],\n",
       "       [ -90.472145 ,  119.30972  ],\n",
       "       [ -96.20685  ,   -0.9154922],\n",
       "       [ -62.21254  ,  -54.726517 ],\n",
       "       [-150.25572  ,  -38.683964 ],\n",
       "       [ 119.37391  ,  -30.415525 ],\n",
       "       [  29.472198 , -141.36658  ],\n",
       "       [-110.28107  , -101.913025 ],\n",
       "       [  53.972572 ,  -62.61366  ],\n",
       "       [ 112.093994 ,   45.580315 ],\n",
       "       [  61.190914 ,   97.83026  ],\n",
       "       [ 100.000114 , -109.5732   ],\n",
       "       [  -9.649304 ,  119.84713  ]], dtype=float32)"
      ]
     },
     "execution_count": 106,
     "metadata": {},
     "output_type": "execute_result"
    }
   ],
   "source": [
    "t_sne_object_2d = TSNE(n_components=2)\n",
    "transformed_data_2d = t_sne_object_2d.fit_transform(tf_idf_vals_list)\n",
    "transformed_data_2d"
   ]
  },
  {
   "cell_type": "markdown",
   "metadata": {},
   "source": [
    "Now, let's visualize everything!  Run the cell below to a 3D visualization of the songs."
   ]
  },
  {
   "cell_type": "code",
   "execution_count": 107,
   "metadata": {},
   "outputs": [
    {
     "data": {
      "image/png": "[encoded data removed]",
      "text/plain": [
       "<Figure size 720x360 with 1 Axes>"
      ]
     },
     "metadata": {
      "needs_background": "light"
     },
     "output_type": "display_data"
    },
    {
     "data": {
      "image/png": "[encoded data removed]",
      "text/plain": [
       "<Figure size 1440x720 with 1 Axes>"
      ]
     },
     "metadata": {
      "needs_background": "light"
     },
     "output_type": "display_data"
    }
   ],
   "source": [
    "kendrick_3d = transformed_data_3d[:10]\n",
    "k3_x = [i[0] for i in kendrick_3d]\n",
    "k3_y = [i[1] for i in kendrick_3d]\n",
    "k3_z = [i[2] for i in kendrick_3d]\n",
    "\n",
    "garth_3d = transformed_data_3d[10:]\n",
    "g3_x = [i[0] for i in garth_3d]\n",
    "g3_y = [i[1] for i in garth_3d]\n",
    "g3_z = [i[2] for i in garth_3d]\n",
    "\n",
    "fig = plt.figure(figsize=(10,5))\n",
    "ax = fig.add_subplot(111, projection='3d')\n",
    "ax.scatter(k3_x, k3_y, k3_z, c='b', s=60, label='Kendrick')\n",
    "ax.scatter(g3_x, g3_y, g3_z, c='red', s=60, label='Garth')\n",
    "ax.view_init(30, 10)\n",
    "ax.legend()\n",
    "plt.show()\n",
    "\n",
    "kendrick_2d = transformed_data_2d[:10]\n",
    "k2_x = [i[0] for i in kendrick_2d]\n",
    "k2_y = [i[1] for i in kendrick_2d]\n",
    "\n",
    "garth_2d = transformed_data_2d[10:]\n",
    "g2_x = [i[0] for i in garth_2d]\n",
    "g2_y = [i[1] for i in garth_2d]\n",
    "\n",
    "fig = plt.figure(figsize=(20,10))\n",
    "ax = fig.add_subplot(222)\n",
    "ax.scatter(k2_x, k2_y, c='b', label='Kendrick')\n",
    "ax.scatter(g2_x, g2_y, c='red', label='Garth')\n",
    "ax.legend()\n",
    "plt.show()"
   ]
  },
  {
   "cell_type": "markdown",
   "metadata": {},
   "source": [
    "Interesting! Take a crack at interpreting these graphs by answering the following question below:\n",
    "\n",
    "What does each graph mean? Do you find one graph more informative than the other? Do you think that this method shows us discernable differences between Kendrick Lamar songs and Garth Brooks songs?  Use the graphs and your understanding of TF-IDF to support your answer.  \n",
    "\n",
    "Write your answer to this question below this line:\n",
    "________________________________________________________________________________________________________________________________\n",
    "\n",
    "Both graphs show a basic trend among the red and blue dots, although the 3-dimensional graph is more informative than the 2-dimensional graph.  We see a separation between the two artists because they both have words that they use, but the other artist does not.  The words in each song that are common to both are reduced very small numbers or to 0, because of the log operation in the IDF function.  This means that the elements of each song vector with the highest values will be the ones that have words that are unique to that specific document, or at least are rarely used in others.  "
   ]
  },
  {
   "cell_type": "markdown",
   "metadata": {},
   "source": [
    "## Summary\n",
    "\n",
    "In this lab, we learned how to: \n",
    "* Tokenize a corpus of words and identify the different choices to be made while parsing them\n",
    "* Use a Count Vectorization strategy to create a Bag of Words\n",
    "* Use TF-IDF Vectorization with multiple documents to identify words that are important/unique to certain documents\n",
    "* Visualize and compare vectorized text documents"
   ]
  }
 ],
 "metadata": {
  "kernelspec": {
   "display_name": "Python 3",
   "language": "python",
   "name": "python3"
  },
  "language_info": {
   "codemirror_mode": {
    "name": "ipython",
    "version": 3
   },
   "file_extension": ".py",
   "mimetype": "text/x-python",
   "name": "python",
   "nbconvert_exporter": "python",
   "pygments_lexer": "ipython3",
   "version": "3.6.6"
  }
 },
 "nbformat": 4,
 "nbformat_minor": 2
}
